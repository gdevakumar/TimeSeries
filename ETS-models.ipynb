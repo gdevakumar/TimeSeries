{
 "cells": [
  {
   "cell_type": "markdown",
   "metadata": {},
   "source": [
    "## Simple Exponential Smoothing"
   ]
  },
  {
   "cell_type": "code",
   "execution_count": null,
   "metadata": {},
   "outputs": [],
   "source": [
    "from statsmodels.tsa.holtwinters import SimpleExpSmoothing\n",
    "\n",
    "data = pd.read_csv(DATASET_PATH)\n",
    "\n",
    "model = SimpleExpSmoothing(data)\n",
    "\n",
    "model_fit = model.fit(smoothing_level=0.7)\n",
    "\n",
    "yhat = model_fit.predict()"
   ]
  },
  {
   "cell_type": "markdown",
   "metadata": {},
   "source": [
    "## Double and Triple Exponential Smoothing"
   ]
  },
  {
   "cell_type": "code",
   "execution_count": null,
   "metadata": {},
   "outputs": [],
   "source": [
    "from statsmodels.tsa.holtwinters import ExponentialSmoothing\n",
    "\n",
    "data = pd.read_csv(DATASET_PATH)\n",
    "\n",
    "model = ExponentialSmoothing(data, trend='mul', damped_trend=False, seasonal=None)\n",
    "\n",
    "model_fit = model.fit(\n",
    "    smoothing_level=0.7,\n",
    "    smoothing_trend=0.8,\n",
    "    smoothing_seasonal=None,\n",
    "    damping_trend=None\n",
    ")\n",
    "\n",
    "yhat = model_fit.predict()"
   ]
  }
 ],
 "metadata": {
  "kernelspec": {
   "display_name": "venv",
   "language": "python",
   "name": "python3"
  },
  "language_info": {
   "codemirror_mode": {
    "name": "ipython",
    "version": 3
   },
   "file_extension": ".py",
   "mimetype": "text/x-python",
   "name": "python",
   "nbconvert_exporter": "python",
   "pygments_lexer": "ipython3",
   "version": "3.12.3"
  }
 },
 "nbformat": 4,
 "nbformat_minor": 2
}
